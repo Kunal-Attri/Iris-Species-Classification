{
 "cells": [
  {
   "cell_type": "code",
   "execution_count": 1,
   "id": "686e0625",
   "metadata": {
    "scrolled": true
   },
   "outputs": [],
   "source": [
    "import pandas as pd\n",
    "from sklearn.tree import DecisionTreeClassifier \n",
    "from sklearn.model_selection import train_test_split\n",
    "from sklearn.datasets import load_iris\n",
    "from sklearn import tree\n",
    "from sklearn import metrics \n",
    "import numpy as np\n",
    "from Convert import convert_to_dataframe"
   ]
  },
  {
   "cell_type": "code",
   "execution_count": 2,
   "outputs": [],
   "source": [
    "iris = convert_to_dataframe(load_iris())"
   ],
   "metadata": {
    "collapsed": false
   }
  },
  {
   "cell_type": "code",
   "execution_count": 3,
   "outputs": [
    {
     "data": {
      "text/plain": "     sepallength  sepalwidth  petallength  petalwidth      target\n115          6.4         3.2          5.3         2.3   virginica\n79           5.7         2.6          3.5         1.0  versicolor\n47           4.6         3.2          1.4         0.2      setosa\n96           5.7         2.9          4.2         1.3  versicolor\n103          6.3         2.9          5.6         1.8   virginica\n22           4.6         3.6          1.0         0.2      setosa\n19           5.1         3.8          1.5         0.3      setosa\n108          6.7         2.5          5.8         1.8   virginica\n5            5.4         3.9          1.7         0.4      setosa\n60           5.0         2.0          3.5         1.0  versicolor\n141          6.9         3.1          5.1         2.3   virginica\n130          7.4         2.8          6.1         1.9   virginica\n86           6.7         3.1          4.7         1.5  versicolor\n2            4.7         3.2          1.3         0.2      setosa\n107          7.3         2.9          6.3         1.8   virginica\n136          6.3         3.4          5.6         2.4   virginica\n140          6.7         3.1          5.6         2.4   virginica\n41           4.5         2.3          1.3         0.3      setosa\n62           6.0         2.2          4.0         1.0  versicolor\n147          6.5         3.0          5.2         2.0   virginica",
      "text/html": "<div>\n<style scoped>\n    .dataframe tbody tr th:only-of-type {\n        vertical-align: middle;\n    }\n\n    .dataframe tbody tr th {\n        vertical-align: top;\n    }\n\n    .dataframe thead th {\n        text-align: right;\n    }\n</style>\n<table border=\"1\" class=\"dataframe\">\n  <thead>\n    <tr style=\"text-align: right;\">\n      <th></th>\n      <th>sepallength</th>\n      <th>sepalwidth</th>\n      <th>petallength</th>\n      <th>petalwidth</th>\n      <th>target</th>\n    </tr>\n  </thead>\n  <tbody>\n    <tr>\n      <th>115</th>\n      <td>6.4</td>\n      <td>3.2</td>\n      <td>5.3</td>\n      <td>2.3</td>\n      <td>virginica</td>\n    </tr>\n    <tr>\n      <th>79</th>\n      <td>5.7</td>\n      <td>2.6</td>\n      <td>3.5</td>\n      <td>1.0</td>\n      <td>versicolor</td>\n    </tr>\n    <tr>\n      <th>47</th>\n      <td>4.6</td>\n      <td>3.2</td>\n      <td>1.4</td>\n      <td>0.2</td>\n      <td>setosa</td>\n    </tr>\n    <tr>\n      <th>96</th>\n      <td>5.7</td>\n      <td>2.9</td>\n      <td>4.2</td>\n      <td>1.3</td>\n      <td>versicolor</td>\n    </tr>\n    <tr>\n      <th>103</th>\n      <td>6.3</td>\n      <td>2.9</td>\n      <td>5.6</td>\n      <td>1.8</td>\n      <td>virginica</td>\n    </tr>\n    <tr>\n      <th>22</th>\n      <td>4.6</td>\n      <td>3.6</td>\n      <td>1.0</td>\n      <td>0.2</td>\n      <td>setosa</td>\n    </tr>\n    <tr>\n      <th>19</th>\n      <td>5.1</td>\n      <td>3.8</td>\n      <td>1.5</td>\n      <td>0.3</td>\n      <td>setosa</td>\n    </tr>\n    <tr>\n      <th>108</th>\n      <td>6.7</td>\n      <td>2.5</td>\n      <td>5.8</td>\n      <td>1.8</td>\n      <td>virginica</td>\n    </tr>\n    <tr>\n      <th>5</th>\n      <td>5.4</td>\n      <td>3.9</td>\n      <td>1.7</td>\n      <td>0.4</td>\n      <td>setosa</td>\n    </tr>\n    <tr>\n      <th>60</th>\n      <td>5.0</td>\n      <td>2.0</td>\n      <td>3.5</td>\n      <td>1.0</td>\n      <td>versicolor</td>\n    </tr>\n    <tr>\n      <th>141</th>\n      <td>6.9</td>\n      <td>3.1</td>\n      <td>5.1</td>\n      <td>2.3</td>\n      <td>virginica</td>\n    </tr>\n    <tr>\n      <th>130</th>\n      <td>7.4</td>\n      <td>2.8</td>\n      <td>6.1</td>\n      <td>1.9</td>\n      <td>virginica</td>\n    </tr>\n    <tr>\n      <th>86</th>\n      <td>6.7</td>\n      <td>3.1</td>\n      <td>4.7</td>\n      <td>1.5</td>\n      <td>versicolor</td>\n    </tr>\n    <tr>\n      <th>2</th>\n      <td>4.7</td>\n      <td>3.2</td>\n      <td>1.3</td>\n      <td>0.2</td>\n      <td>setosa</td>\n    </tr>\n    <tr>\n      <th>107</th>\n      <td>7.3</td>\n      <td>2.9</td>\n      <td>6.3</td>\n      <td>1.8</td>\n      <td>virginica</td>\n    </tr>\n    <tr>\n      <th>136</th>\n      <td>6.3</td>\n      <td>3.4</td>\n      <td>5.6</td>\n      <td>2.4</td>\n      <td>virginica</td>\n    </tr>\n    <tr>\n      <th>140</th>\n      <td>6.7</td>\n      <td>3.1</td>\n      <td>5.6</td>\n      <td>2.4</td>\n      <td>virginica</td>\n    </tr>\n    <tr>\n      <th>41</th>\n      <td>4.5</td>\n      <td>2.3</td>\n      <td>1.3</td>\n      <td>0.3</td>\n      <td>setosa</td>\n    </tr>\n    <tr>\n      <th>62</th>\n      <td>6.0</td>\n      <td>2.2</td>\n      <td>4.0</td>\n      <td>1.0</td>\n      <td>versicolor</td>\n    </tr>\n    <tr>\n      <th>147</th>\n      <td>6.5</td>\n      <td>3.0</td>\n      <td>5.2</td>\n      <td>2.0</td>\n      <td>virginica</td>\n    </tr>\n  </tbody>\n</table>\n</div>"
     },
     "execution_count": 3,
     "metadata": {},
     "output_type": "execute_result"
    }
   ],
   "source": [
    "iris.sample(20)"
   ],
   "metadata": {
    "collapsed": false
   }
  },
  {
   "cell_type": "code",
   "execution_count": 4,
   "outputs": [],
   "source": [
    "X = iris.drop(['target'], axis=1)\n",
    "Y = iris['target']"
   ],
   "metadata": {
    "collapsed": false
   }
  },
  {
   "cell_type": "code",
   "execution_count": 18,
   "id": "f6099f25",
   "metadata": {},
   "outputs": [],
   "source": [
    "X_train, X_test, Y_train, Y_test = train_test_split(X, Y, test_size=0.2, shuffle=True)"
   ]
  },
  {
   "cell_type": "code",
   "execution_count": 19,
   "outputs": [
    {
     "data": {
      "text/plain": "     sepallength  sepalwidth  petallength  petalwidth\n12           4.8         3.0          1.4         0.1\n138          6.0         3.0          4.8         1.8\n87           6.3         2.3          4.4         1.3\n15           5.7         4.4          1.5         0.4\n73           6.1         2.8          4.7         1.2\n..           ...         ...          ...         ...\n145          6.7         3.0          5.2         2.3\n0            5.1         3.5          1.4         0.2\n91           6.1         3.0          4.6         1.4\n66           5.6         3.0          4.5         1.5\n105          7.6         3.0          6.6         2.1\n\n[120 rows x 4 columns]",
      "text/html": "<div>\n<style scoped>\n    .dataframe tbody tr th:only-of-type {\n        vertical-align: middle;\n    }\n\n    .dataframe tbody tr th {\n        vertical-align: top;\n    }\n\n    .dataframe thead th {\n        text-align: right;\n    }\n</style>\n<table border=\"1\" class=\"dataframe\">\n  <thead>\n    <tr style=\"text-align: right;\">\n      <th></th>\n      <th>sepallength</th>\n      <th>sepalwidth</th>\n      <th>petallength</th>\n      <th>petalwidth</th>\n    </tr>\n  </thead>\n  <tbody>\n    <tr>\n      <th>12</th>\n      <td>4.8</td>\n      <td>3.0</td>\n      <td>1.4</td>\n      <td>0.1</td>\n    </tr>\n    <tr>\n      <th>138</th>\n      <td>6.0</td>\n      <td>3.0</td>\n      <td>4.8</td>\n      <td>1.8</td>\n    </tr>\n    <tr>\n      <th>87</th>\n      <td>6.3</td>\n      <td>2.3</td>\n      <td>4.4</td>\n      <td>1.3</td>\n    </tr>\n    <tr>\n      <th>15</th>\n      <td>5.7</td>\n      <td>4.4</td>\n      <td>1.5</td>\n      <td>0.4</td>\n    </tr>\n    <tr>\n      <th>73</th>\n      <td>6.1</td>\n      <td>2.8</td>\n      <td>4.7</td>\n      <td>1.2</td>\n    </tr>\n    <tr>\n      <th>...</th>\n      <td>...</td>\n      <td>...</td>\n      <td>...</td>\n      <td>...</td>\n    </tr>\n    <tr>\n      <th>145</th>\n      <td>6.7</td>\n      <td>3.0</td>\n      <td>5.2</td>\n      <td>2.3</td>\n    </tr>\n    <tr>\n      <th>0</th>\n      <td>5.1</td>\n      <td>3.5</td>\n      <td>1.4</td>\n      <td>0.2</td>\n    </tr>\n    <tr>\n      <th>91</th>\n      <td>6.1</td>\n      <td>3.0</td>\n      <td>4.6</td>\n      <td>1.4</td>\n    </tr>\n    <tr>\n      <th>66</th>\n      <td>5.6</td>\n      <td>3.0</td>\n      <td>4.5</td>\n      <td>1.5</td>\n    </tr>\n    <tr>\n      <th>105</th>\n      <td>7.6</td>\n      <td>3.0</td>\n      <td>6.6</td>\n      <td>2.1</td>\n    </tr>\n  </tbody>\n</table>\n<p>120 rows × 4 columns</p>\n</div>"
     },
     "execution_count": 19,
     "metadata": {},
     "output_type": "execute_result"
    }
   ],
   "source": [
    "X_train"
   ],
   "metadata": {
    "collapsed": false
   }
  },
  {
   "cell_type": "code",
   "execution_count": 20,
   "outputs": [],
   "source": [
    "clf = DecisionTreeClassifier()"
   ],
   "metadata": {
    "collapsed": false
   }
  },
  {
   "cell_type": "code",
   "execution_count": 21,
   "outputs": [],
   "source": [
    "clf = clf.fit(X_train, Y_train)"
   ],
   "metadata": {
    "collapsed": false
   }
  },
  {
   "cell_type": "code",
   "execution_count": 22,
   "outputs": [
    {
     "data": {
      "text/plain": "[Text(0.4444444444444444, 0.9166666666666666, 'x[2] <= 2.45\\ngini = 0.665\\nsamples = 120\\nvalue = [40, 43, 37]'),\n Text(0.3333333333333333, 0.75, 'gini = 0.0\\nsamples = 40\\nvalue = [40, 0, 0]'),\n Text(0.5555555555555556, 0.75, 'x[3] <= 1.75\\ngini = 0.497\\nsamples = 80\\nvalue = [0, 43, 37]'),\n Text(0.4444444444444444, 0.5833333333333334, 'x[2] <= 4.95\\ngini = 0.156\\nsamples = 47\\nvalue = [0, 43, 4]'),\n Text(0.2222222222222222, 0.4166666666666667, 'x[3] <= 1.65\\ngini = 0.046\\nsamples = 42\\nvalue = [0, 41, 1]'),\n Text(0.1111111111111111, 0.25, 'gini = 0.0\\nsamples = 41\\nvalue = [0, 41, 0]'),\n Text(0.3333333333333333, 0.25, 'gini = 0.0\\nsamples = 1\\nvalue = [0, 0, 1]'),\n Text(0.6666666666666666, 0.4166666666666667, 'x[3] <= 1.55\\ngini = 0.48\\nsamples = 5\\nvalue = [0, 2, 3]'),\n Text(0.5555555555555556, 0.25, 'gini = 0.0\\nsamples = 2\\nvalue = [0, 0, 2]'),\n Text(0.7777777777777778, 0.25, 'x[0] <= 6.95\\ngini = 0.444\\nsamples = 3\\nvalue = [0, 2, 1]'),\n Text(0.6666666666666666, 0.08333333333333333, 'gini = 0.0\\nsamples = 2\\nvalue = [0, 2, 0]'),\n Text(0.8888888888888888, 0.08333333333333333, 'gini = 0.0\\nsamples = 1\\nvalue = [0, 0, 1]'),\n Text(0.6666666666666666, 0.5833333333333334, 'gini = 0.0\\nsamples = 33\\nvalue = [0, 0, 33]')]"
     },
     "execution_count": 22,
     "metadata": {},
     "output_type": "execute_result"
    },
    {
     "data": {
      "text/plain": "<Figure size 640x480 with 1 Axes>",
      "image/png": "[encoded data removed]"
     },
     "metadata": {},
     "output_type": "display_data"
    }
   ],
   "source": [
    "tree.plot_tree(clf)"
   ],
   "metadata": {
    "collapsed": false
   }
  },
  {
   "cell_type": "code",
   "execution_count": 23,
   "outputs": [],
   "source": [
    "y_pred = clf.predict(X_test)"
   ],
   "metadata": {
    "collapsed": false
   }
  },
  {
   "cell_type": "code",
   "execution_count": 24,
   "outputs": [
    {
     "name": "stdout",
     "output_type": "stream",
     "text": [
      "    index      target      y_pred\n",
      "0     130   virginica   virginica\n",
      "1     134   virginica   virginica\n",
      "2      46      setosa      setosa\n",
      "3      82  versicolor  versicolor\n",
      "4     121   virginica   virginica\n",
      "5      19      setosa      setosa\n",
      "6      43      setosa      setosa\n",
      "7      23      setosa      setosa\n",
      "8      34      setosa      setosa\n",
      "9     141   virginica   virginica\n",
      "10     13      setosa      setosa\n",
      "11    108   virginica   virginica\n",
      "12    147   virginica   virginica\n",
      "13    149   virginica   virginica\n",
      "14    123   virginica   virginica\n",
      "15     39      setosa      setosa\n",
      "16     45      setosa      setosa\n",
      "17    109   virginica   virginica\n",
      "18     51  versicolor  versicolor\n",
      "19     89  versicolor  versicolor\n",
      "20     88  versicolor  versicolor\n",
      "21     70  versicolor   virginica\n",
      "22    114   virginica   virginica\n",
      "23    136   virginica   virginica\n",
      "24     62  versicolor  versicolor\n",
      "25     30      setosa      setosa\n",
      "26     56  versicolor  versicolor\n",
      "27    117   virginica   virginica\n",
      "28      9      setosa      setosa\n",
      "29    118   virginica   virginica\n"
     ]
    }
   ],
   "source": [
    "Y_test_ind = Y_test.reset_index()\n",
    "print(pd.concat([Y_test_ind, pd.DataFrame({\"y_pred\":y_pred})], axis=1))"
   ],
   "metadata": {
    "collapsed": false
   }
  },
  {
   "cell_type": "code",
   "execution_count": 25,
   "outputs": [
    {
     "name": "stdout",
     "output_type": "stream",
     "text": [
      "              precision    recall  f1-score   support\n",
      "\n",
      "      setosa       1.00      1.00      1.00        10\n",
      "  versicolor       1.00      0.86      0.92         7\n",
      "   virginica       0.93      1.00      0.96        13\n",
      "\n",
      "    accuracy                           0.97        30\n",
      "   macro avg       0.98      0.95      0.96        30\n",
      "weighted avg       0.97      0.97      0.97        30\n",
      "\n"
     ]
    }
   ],
   "source": [
    "print(metrics.classification_report(Y_test, y_pred))"
   ],
   "metadata": {
    "collapsed": false
   }
  },
  {
   "cell_type": "code",
   "execution_count": 26,
   "outputs": [
    {
     "name": "stdout",
     "output_type": "stream",
     "text": [
      "Confusion matrix:\n",
      "[[10  0  0]\n",
      " [ 0  6  0]\n",
      " [ 0  0  0]]\n"
     ]
    }
   ],
   "source": [
    "print(\"Confusion matrix:\")\n",
    "print(metrics.confusion_matrix(Y_test, y_pred, labels=['setosa', 'versicolor', 'verginica']))"
   ],
   "metadata": {
    "collapsed": false
   }
  },
  {
   "cell_type": "code",
   "execution_count": 27,
   "outputs": [
    {
     "name": "stdout",
     "output_type": "stream",
     "text": [
      "Accuracy: 96.66666666666667\n"
     ]
    }
   ],
   "source": [
    "print(\"Accuracy:\", metrics.accuracy_score(Y_test, y_pred)*100)"
   ],
   "metadata": {
    "collapsed": false
   }
  },
  {
   "cell_type": "code",
   "execution_count": 28,
   "id": "992ba193",
   "metadata": {},
   "outputs": [
    {
     "name": "stdout",
     "output_type": "stream",
     "text": [
      "['setosa']\n"
     ]
    },
    {
     "name": "stderr",
     "output_type": "stream",
     "text": [
      "C:\\Users\\attri\\AppData\\Local\\Programs\\Python\\Python311\\Lib\\site-packages\\sklearn\\base.py:409: UserWarning: X does not have valid feature names, but DecisionTreeClassifier was fitted with feature names\n",
      "  warnings.warn(\n"
     ]
    }
   ],
   "source": [
    "my_features = [[5.5,3.5,1.3,0.2]]\n",
    "prediction = clf.predict(my_features)\n",
    "print(prediction)"
   ]
  },
  {
   "cell_type": "code",
   "execution_count": 16,
   "id": "9fe262b9",
   "metadata": {},
   "outputs": [],
   "source": []
  }
 ],
 "metadata": {
  "kernelspec": {
   "display_name": "Python 3 (ipykernel)",
   "language": "python",
   "name": "python3"
  },
  "language_info": {
   "codemirror_mode": {
    "name": "ipython",
    "version": 3
   },
   "file_extension": ".py",
   "mimetype": "text/x-python",
   "name": "python",
   "nbconvert_exporter": "python",
   "pygments_lexer": "ipython3",
   "version": "3.9.7"
  }
 },
 "nbformat": 4,
 "nbformat_minor": 5
}

{
 "cells": [
  {
   "cell_type": "code",
   "execution_count": 1,
   "metadata": {
    "collapsed": true
   },
   "outputs": [],
   "source": [
    "import pandas as pd\n",
    "from sklearn import metrics\n",
    "from sklearn.datasets import load_iris\n",
    "from sklearn.ensemble import RandomForestClassifier\n",
    "from sklearn.model_selection import train_test_split\n",
    "\n",
    "from Convert import convert_to_dataframe, single_y_test_pred\n"
   ]
  },
  {
   "cell_type": "code",
   "execution_count": 2,
   "outputs": [],
   "source": [
    "iris = convert_to_dataframe(load_iris())"
   ],
   "metadata": {
    "collapsed": false
   }
  },
  {
   "cell_type": "code",
   "execution_count": 3,
   "outputs": [
    {
     "data": {
      "text/plain": "     sepallength  sepalwidth  petallength  petalwidth      target\n117          7.7         3.8          6.7         2.2   virginica\n52           6.9         3.1          4.9         1.5  versicolor\n51           6.4         3.2          4.5         1.5  versicolor\n133          6.3         2.8          5.1         1.5   virginica\n5            5.4         3.9          1.7         0.4      setosa\n123          6.3         2.7          4.9         1.8   virginica\n113          5.7         2.5          5.0         2.0   virginica\n55           5.7         2.8          4.5         1.3  versicolor\n49           5.0         3.3          1.4         0.2      setosa\n142          5.8         2.7          5.1         1.9   virginica",
      "text/html": "<div>\n<style scoped>\n    .dataframe tbody tr th:only-of-type {\n        vertical-align: middle;\n    }\n\n    .dataframe tbody tr th {\n        vertical-align: top;\n    }\n\n    .dataframe thead th {\n        text-align: right;\n    }\n</style>\n<table border=\"1\" class=\"dataframe\">\n  <thead>\n    <tr style=\"text-align: right;\">\n      <th></th>\n      <th>sepallength</th>\n      <th>sepalwidth</th>\n      <th>petallength</th>\n      <th>petalwidth</th>\n      <th>target</th>\n    </tr>\n  </thead>\n  <tbody>\n    <tr>\n      <th>117</th>\n      <td>7.7</td>\n      <td>3.8</td>\n      <td>6.7</td>\n      <td>2.2</td>\n      <td>virginica</td>\n    </tr>\n    <tr>\n      <th>52</th>\n      <td>6.9</td>\n      <td>3.1</td>\n      <td>4.9</td>\n      <td>1.5</td>\n      <td>versicolor</td>\n    </tr>\n    <tr>\n      <th>51</th>\n      <td>6.4</td>\n      <td>3.2</td>\n      <td>4.5</td>\n      <td>1.5</td>\n      <td>versicolor</td>\n    </tr>\n    <tr>\n      <th>133</th>\n      <td>6.3</td>\n      <td>2.8</td>\n      <td>5.1</td>\n      <td>1.5</td>\n      <td>virginica</td>\n    </tr>\n    <tr>\n      <th>5</th>\n      <td>5.4</td>\n      <td>3.9</td>\n      <td>1.7</td>\n      <td>0.4</td>\n      <td>setosa</td>\n    </tr>\n    <tr>\n      <th>123</th>\n      <td>6.3</td>\n      <td>2.7</td>\n      <td>4.9</td>\n      <td>1.8</td>\n      <td>virginica</td>\n    </tr>\n    <tr>\n      <th>113</th>\n      <td>5.7</td>\n      <td>2.5</td>\n      <td>5.0</td>\n      <td>2.0</td>\n      <td>virginica</td>\n    </tr>\n    <tr>\n      <th>55</th>\n      <td>5.7</td>\n      <td>2.8</td>\n      <td>4.5</td>\n      <td>1.3</td>\n      <td>versicolor</td>\n    </tr>\n    <tr>\n      <th>49</th>\n      <td>5.0</td>\n      <td>3.3</td>\n      <td>1.4</td>\n      <td>0.2</td>\n      <td>setosa</td>\n    </tr>\n    <tr>\n      <th>142</th>\n      <td>5.8</td>\n      <td>2.7</td>\n      <td>5.1</td>\n      <td>1.9</td>\n      <td>virginica</td>\n    </tr>\n  </tbody>\n</table>\n</div>"
     },
     "execution_count": 3,
     "metadata": {},
     "output_type": "execute_result"
    }
   ],
   "source": [
    "iris.sample(10)"
   ],
   "metadata": {
    "collapsed": false
   }
  },
  {
   "cell_type": "code",
   "execution_count": 4,
   "outputs": [
    {
     "name": "stdout",
     "output_type": "stream",
     "text": [
      "['sepallength', 'sepalwidth', 'petallength', 'petalwidth']\n",
      "['setosa', 'versicolor', 'virginica']\n"
     ]
    }
   ],
   "source": [
    "X = iris.drop(['target'], axis=1)\n",
    "Y = iris['target']\n",
    "feature_names = iris.columns.values.tolist()[:-1]\n",
    "class_names = Y.unique().tolist()\n",
    "print(feature_names)\n",
    "print(class_names)"
   ],
   "metadata": {
    "collapsed": false
   }
  },
  {
   "cell_type": "code",
   "execution_count": 5,
   "outputs": [],
   "source": [
    "x_train, x_test, y_train, y_test = train_test_split(X, Y, test_size=0.2, shuffle=True)"
   ],
   "metadata": {
    "collapsed": false
   }
  },
  {
   "cell_type": "code",
   "execution_count": 6,
   "outputs": [
    {
     "data": {
      "text/plain": "     sepallength  sepalwidth  petallength  petalwidth\n23           5.1         3.3          1.7         0.5\n80           5.5         2.4          3.8         1.1\n29           4.7         3.2          1.6         0.2\n144          6.7         3.3          5.7         2.5\n95           5.7         3.0          4.2         1.2",
      "text/html": "<div>\n<style scoped>\n    .dataframe tbody tr th:only-of-type {\n        vertical-align: middle;\n    }\n\n    .dataframe tbody tr th {\n        vertical-align: top;\n    }\n\n    .dataframe thead th {\n        text-align: right;\n    }\n</style>\n<table border=\"1\" class=\"dataframe\">\n  <thead>\n    <tr style=\"text-align: right;\">\n      <th></th>\n      <th>sepallength</th>\n      <th>sepalwidth</th>\n      <th>petallength</th>\n      <th>petalwidth</th>\n    </tr>\n  </thead>\n  <tbody>\n    <tr>\n      <th>23</th>\n      <td>5.1</td>\n      <td>3.3</td>\n      <td>1.7</td>\n      <td>0.5</td>\n    </tr>\n    <tr>\n      <th>80</th>\n      <td>5.5</td>\n      <td>2.4</td>\n      <td>3.8</td>\n      <td>1.1</td>\n    </tr>\n    <tr>\n      <th>29</th>\n      <td>4.7</td>\n      <td>3.2</td>\n      <td>1.6</td>\n      <td>0.2</td>\n    </tr>\n    <tr>\n      <th>144</th>\n      <td>6.7</td>\n      <td>3.3</td>\n      <td>5.7</td>\n      <td>2.5</td>\n    </tr>\n    <tr>\n      <th>95</th>\n      <td>5.7</td>\n      <td>3.0</td>\n      <td>4.2</td>\n      <td>1.2</td>\n    </tr>\n  </tbody>\n</table>\n</div>"
     },
     "execution_count": 6,
     "metadata": {},
     "output_type": "execute_result"
    }
   ],
   "source": [
    "x_train.head()"
   ],
   "metadata": {
    "collapsed": false
   }
  },
  {
   "cell_type": "code",
   "execution_count": 7,
   "outputs": [],
   "source": [
    "clf = RandomForestClassifier(n_estimators=5)"
   ],
   "metadata": {
    "collapsed": false
   }
  },
  {
   "cell_type": "code",
   "execution_count": 8,
   "outputs": [],
   "source": [
    "clf = clf.fit(x_train, y_train)"
   ],
   "metadata": {
    "collapsed": false
   }
  },
  {
   "cell_type": "code",
   "execution_count": 9,
   "outputs": [],
   "source": [
    "y_pred = clf.predict(x_test)"
   ],
   "metadata": {
    "collapsed": false
   }
  },
  {
   "cell_type": "code",
   "execution_count": 10,
   "outputs": [
    {
     "name": "stdout",
     "output_type": "stream",
     "text": [
      "    index      target      y_pred\n",
      "0     133   virginica  versicolor\n",
      "1      48      setosa      setosa\n",
      "2      91  versicolor  versicolor\n",
      "3      40      setosa      setosa\n",
      "4      37      setosa      setosa\n",
      "5      71  versicolor  versicolor\n",
      "6     127   virginica   virginica\n",
      "7      84  versicolor  versicolor\n",
      "8     130   virginica   virginica\n",
      "9     146   virginica   virginica\n",
      "10     99  versicolor  versicolor\n",
      "11     46      setosa      setosa\n",
      "12    143   virginica   virginica\n",
      "13     45      setosa      setosa\n",
      "14     14      setosa      setosa\n",
      "15     26      setosa      setosa\n",
      "16     30      setosa      setosa\n",
      "17      4      setosa      setosa\n",
      "18     49      setosa      setosa\n",
      "19    115   virginica   virginica\n",
      "20      3      setosa      setosa\n",
      "21    120   virginica   virginica\n",
      "22     68  versicolor  versicolor\n",
      "23    129   virginica  versicolor\n",
      "24     22      setosa      setosa\n",
      "25     53  versicolor  versicolor\n",
      "26     54  versicolor  versicolor\n",
      "27     69  versicolor  versicolor\n",
      "28     36      setosa      setosa\n",
      "29     96  versicolor  versicolor\n"
     ]
    }
   ],
   "source": [
    "print(single_y_test_pred(y_test, y_pred))"
   ],
   "metadata": {
    "collapsed": false
   }
  },
  {
   "cell_type": "code",
   "execution_count": 11,
   "outputs": [
    {
     "name": "stdout",
     "output_type": "stream",
     "text": [
      "              precision    recall  f1-score   support\n",
      "\n",
      "      setosa       1.00      1.00      1.00        13\n",
      "  versicolor       0.82      1.00      0.90         9\n",
      "   virginica       1.00      0.75      0.86         8\n",
      "\n",
      "    accuracy                           0.93        30\n",
      "   macro avg       0.94      0.92      0.92        30\n",
      "weighted avg       0.95      0.93      0.93        30\n",
      "\n"
     ]
    }
   ],
   "source": [
    "print(metrics.classification_report(y_test, y_pred))"
   ],
   "metadata": {
    "collapsed": false
   }
  },
  {
   "cell_type": "code",
   "execution_count": 12,
   "outputs": [
    {
     "name": "stdout",
     "output_type": "stream",
     "text": [
      "Confusion matrix:\n",
      "[[13  0  0]\n",
      " [ 0  9  0]\n",
      " [ 0  2  6]]\n"
     ]
    }
   ],
   "source": [
    "print(\"Confusion matrix:\")\n",
    "print(metrics.confusion_matrix(y_test, y_pred, labels=class_names))"
   ],
   "metadata": {
    "collapsed": false
   }
  },
  {
   "cell_type": "code",
   "execution_count": 13,
   "outputs": [
    {
     "name": "stdout",
     "output_type": "stream",
     "text": [
      "Accuracy: 93.33%\n"
     ]
    }
   ],
   "source": [
    "accuracy = metrics.accuracy_score(y_test, y_pred) * 100\n",
    "print(f\"Accuracy: {round(accuracy, 2)}%\")"
   ],
   "metadata": {
    "collapsed": false
   }
  },
  {
   "cell_type": "code",
   "execution_count": 14,
   "outputs": [
    {
     "data": {
      "text/plain": "sepallength    0.090013\nsepalwidth     0.027394\npetallength    0.581705\npetalwidth     0.300887\ndtype: float64"
     },
     "execution_count": 14,
     "metadata": {},
     "output_type": "execute_result"
    }
   ],
   "source": [
    "feature_imp = pd.Series(clf.feature_importances_, index=feature_names)\n",
    "feature_imp"
   ],
   "metadata": {
    "collapsed": false
   }
  },
  {
   "cell_type": "code",
   "execution_count": 15,
   "outputs": [
    {
     "data": {
      "text/plain": "0.9333333333333333"
     },
     "execution_count": 15,
     "metadata": {},
     "output_type": "execute_result"
    }
   ],
   "source": [
    "clf.score(x_test, y_test)"
   ],
   "metadata": {
    "collapsed": false
   }
  },
  {
   "cell_type": "code",
   "execution_count": 16,
   "outputs": [
    {
     "data": {
      "text/plain": "[DecisionTreeClassifier(max_features='sqrt', random_state=1307978660),\n DecisionTreeClassifier(max_features='sqrt', random_state=320430758),\n DecisionTreeClassifier(max_features='sqrt', random_state=1124265001),\n DecisionTreeClassifier(max_features='sqrt', random_state=1740210363),\n DecisionTreeClassifier(max_features='sqrt', random_state=99717368)]"
     },
     "execution_count": 16,
     "metadata": {},
     "output_type": "execute_result"
    }
   ],
   "source": [
    "clf.estimators_"
   ],
   "metadata": {
    "collapsed": false
   }
  },
  {
   "cell_type": "code",
   "execution_count": 16,
   "outputs": [],
   "source": [],
   "metadata": {
    "collapsed": false
   }
  }
 ],
 "metadata": {
  "kernelspec": {
   "display_name": "Python 3",
   "language": "python",
   "name": "python3"
  },
  "language_info": {
   "codemirror_mode": {
    "name": "ipython",
    "version": 2
   },
   "file_extension": ".py",
   "mimetype": "text/x-python",
   "name": "python",
   "nbconvert_exporter": "python",
   "pygments_lexer": "ipython2",
   "version": "2.7.6"
  }
 },
 "nbformat": 4,
 "nbformat_minor": 0
}

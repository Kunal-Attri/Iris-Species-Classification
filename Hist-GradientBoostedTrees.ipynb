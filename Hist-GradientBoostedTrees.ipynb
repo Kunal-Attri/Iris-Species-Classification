{
 "cells": [
  {
   "cell_type": "markdown",
   "source": [
    "HGBDT vs GBDT:\n",
    "Both are working by training multiple DTs and combining them.\n",
    "GBDT used gradient based optimization algo, while HGBDT uses histogram based optimization algo (essentially numerical, discrete)\n",
    "GBDT is sensitive to scale of I/P features.\n",
    "\n",
    "Therefore, HGBDT is more robust, and is ideal for handling very large datasets."
   ],
   "metadata": {
    "collapsed": false
   }
  },
  {
   "cell_type": "code",
   "execution_count": 1,
   "metadata": {
    "collapsed": true
   },
   "outputs": [],
   "source": [
    "import pandas as pd\n",
    "from sklearn import metrics\n",
    "from sklearn.datasets import load_iris\n",
    "from sklearn.ensemble import HistGradientBoostingClassifier\n",
    "from sklearn.model_selection import train_test_split\n",
    "\n",
    "from Convert import convert_to_dataframe, single_y_test_pred"
   ]
  },
  {
   "cell_type": "code",
   "execution_count": 2,
   "outputs": [],
   "source": [
    "iris = convert_to_dataframe(load_iris())"
   ],
   "metadata": {
    "collapsed": false
   }
  },
  {
   "cell_type": "code",
   "execution_count": 3,
   "outputs": [
    {
     "data": {
      "text/plain": "     sepallength  sepalwidth  petallength  petalwidth      target\n2            4.7         3.2          1.3         0.2      setosa\n26           5.0         3.4          1.6         0.4      setosa\n30           4.8         3.1          1.6         0.2      setosa\n87           6.3         2.3          4.4         1.3  versicolor\n64           5.6         2.9          3.6         1.3  versicolor\n81           5.5         2.4          3.7         1.0  versicolor\n79           5.7         2.6          3.5         1.0  versicolor\n112          6.8         3.0          5.5         2.1   virginica\n127          6.1         3.0          4.9         1.8   virginica\n136          6.3         3.4          5.6         2.4   virginica",
      "text/html": "<div>\n<style scoped>\n    .dataframe tbody tr th:only-of-type {\n        vertical-align: middle;\n    }\n\n    .dataframe tbody tr th {\n        vertical-align: top;\n    }\n\n    .dataframe thead th {\n        text-align: right;\n    }\n</style>\n<table border=\"1\" class=\"dataframe\">\n  <thead>\n    <tr style=\"text-align: right;\">\n      <th></th>\n      <th>sepallength</th>\n      <th>sepalwidth</th>\n      <th>petallength</th>\n      <th>petalwidth</th>\n      <th>target</th>\n    </tr>\n  </thead>\n  <tbody>\n    <tr>\n      <th>2</th>\n      <td>4.7</td>\n      <td>3.2</td>\n      <td>1.3</td>\n      <td>0.2</td>\n      <td>setosa</td>\n    </tr>\n    <tr>\n      <th>26</th>\n      <td>5.0</td>\n      <td>3.4</td>\n      <td>1.6</td>\n      <td>0.4</td>\n      <td>setosa</td>\n    </tr>\n    <tr>\n      <th>30</th>\n      <td>4.8</td>\n      <td>3.1</td>\n      <td>1.6</td>\n      <td>0.2</td>\n      <td>setosa</td>\n    </tr>\n    <tr>\n      <th>87</th>\n      <td>6.3</td>\n      <td>2.3</td>\n      <td>4.4</td>\n      <td>1.3</td>\n      <td>versicolor</td>\n    </tr>\n    <tr>\n      <th>64</th>\n      <td>5.6</td>\n      <td>2.9</td>\n      <td>3.6</td>\n      <td>1.3</td>\n      <td>versicolor</td>\n    </tr>\n    <tr>\n      <th>81</th>\n      <td>5.5</td>\n      <td>2.4</td>\n      <td>3.7</td>\n      <td>1.0</td>\n      <td>versicolor</td>\n    </tr>\n    <tr>\n      <th>79</th>\n      <td>5.7</td>\n      <td>2.6</td>\n      <td>3.5</td>\n      <td>1.0</td>\n      <td>versicolor</td>\n    </tr>\n    <tr>\n      <th>112</th>\n      <td>6.8</td>\n      <td>3.0</td>\n      <td>5.5</td>\n      <td>2.1</td>\n      <td>virginica</td>\n    </tr>\n    <tr>\n      <th>127</th>\n      <td>6.1</td>\n      <td>3.0</td>\n      <td>4.9</td>\n      <td>1.8</td>\n      <td>virginica</td>\n    </tr>\n    <tr>\n      <th>136</th>\n      <td>6.3</td>\n      <td>3.4</td>\n      <td>5.6</td>\n      <td>2.4</td>\n      <td>virginica</td>\n    </tr>\n  </tbody>\n</table>\n</div>"
     },
     "execution_count": 3,
     "metadata": {},
     "output_type": "execute_result"
    }
   ],
   "source": [
    "iris.sample(10)"
   ],
   "metadata": {
    "collapsed": false
   }
  },
  {
   "cell_type": "code",
   "execution_count": 4,
   "outputs": [
    {
     "name": "stdout",
     "output_type": "stream",
     "text": [
      "['sepallength', 'sepalwidth', 'petallength', 'petalwidth']\n",
      "['setosa', 'versicolor', 'virginica']\n"
     ]
    }
   ],
   "source": [
    "X = iris.drop(['target'], axis=1)\n",
    "Y = iris['target']\n",
    "feature_names = iris.columns.values.tolist()[:-1]\n",
    "class_names = Y.unique().tolist()\n",
    "print(feature_names)\n",
    "print(class_names)"
   ],
   "metadata": {
    "collapsed": false
   }
  },
  {
   "cell_type": "code",
   "execution_count": 5,
   "outputs": [],
   "source": [
    "x_train, x_test, y_train, y_test = train_test_split(X, Y, test_size=0.2, shuffle=True)"
   ],
   "metadata": {
    "collapsed": false
   }
  },
  {
   "cell_type": "code",
   "execution_count": 6,
   "outputs": [
    {
     "data": {
      "text/plain": "     sepallength  sepalwidth  petallength  petalwidth\n77           6.7         3.0          5.0         1.7\n67           5.8         2.7          4.1         1.0\n128          6.4         2.8          5.6         2.1\n25           5.0         3.0          1.6         0.2\n133          6.3         2.8          5.1         1.5",
      "text/html": "<div>\n<style scoped>\n    .dataframe tbody tr th:only-of-type {\n        vertical-align: middle;\n    }\n\n    .dataframe tbody tr th {\n        vertical-align: top;\n    }\n\n    .dataframe thead th {\n        text-align: right;\n    }\n</style>\n<table border=\"1\" class=\"dataframe\">\n  <thead>\n    <tr style=\"text-align: right;\">\n      <th></th>\n      <th>sepallength</th>\n      <th>sepalwidth</th>\n      <th>petallength</th>\n      <th>petalwidth</th>\n    </tr>\n  </thead>\n  <tbody>\n    <tr>\n      <th>77</th>\n      <td>6.7</td>\n      <td>3.0</td>\n      <td>5.0</td>\n      <td>1.7</td>\n    </tr>\n    <tr>\n      <th>67</th>\n      <td>5.8</td>\n      <td>2.7</td>\n      <td>4.1</td>\n      <td>1.0</td>\n    </tr>\n    <tr>\n      <th>128</th>\n      <td>6.4</td>\n      <td>2.8</td>\n      <td>5.6</td>\n      <td>2.1</td>\n    </tr>\n    <tr>\n      <th>25</th>\n      <td>5.0</td>\n      <td>3.0</td>\n      <td>1.6</td>\n      <td>0.2</td>\n    </tr>\n    <tr>\n      <th>133</th>\n      <td>6.3</td>\n      <td>2.8</td>\n      <td>5.1</td>\n      <td>1.5</td>\n    </tr>\n  </tbody>\n</table>\n</div>"
     },
     "execution_count": 6,
     "metadata": {},
     "output_type": "execute_result"
    }
   ],
   "source": [
    "x_train.head()"
   ],
   "metadata": {
    "collapsed": false
   }
  },
  {
   "cell_type": "code",
   "execution_count": 7,
   "outputs": [],
   "source": [
    "clf = HistGradientBoostingClassifier()"
   ],
   "metadata": {
    "collapsed": false
   }
  },
  {
   "cell_type": "code",
   "execution_count": 8,
   "outputs": [],
   "source": [
    "clf = clf.fit(x_train, y_train)"
   ],
   "metadata": {
    "collapsed": false
   }
  },
  {
   "cell_type": "code",
   "execution_count": 9,
   "outputs": [],
   "source": [
    "y_pred = clf.predict(x_test)"
   ],
   "metadata": {
    "collapsed": false
   }
  },
  {
   "cell_type": "code",
   "execution_count": 10,
   "outputs": [
    {
     "name": "stdout",
     "output_type": "stream",
     "text": [
      "    index      target      y_pred\n",
      "0     144   virginica   virginica\n",
      "1      79  versicolor  versicolor\n",
      "2      71  versicolor  versicolor\n",
      "3      84  versicolor  versicolor\n",
      "4      59  versicolor  versicolor\n",
      "5      75  versicolor  versicolor\n",
      "6     146   virginica   virginica\n",
      "7     121   virginica   virginica\n",
      "8      40      setosa      setosa\n",
      "9     124   virginica   virginica\n",
      "10     10      setosa      setosa\n",
      "11     45      setosa      setosa\n",
      "12    135   virginica   virginica\n",
      "13      7      setosa      setosa\n",
      "14     17      setosa      setosa\n",
      "15    141   virginica   virginica\n",
      "16     23      setosa      setosa\n",
      "17     85  versicolor  versicolor\n",
      "18     50  versicolor  versicolor\n",
      "19     32      setosa      setosa\n",
      "20     27      setosa      setosa\n",
      "21     26      setosa      setosa\n",
      "22    108   virginica   virginica\n",
      "23    118   virginica   virginica\n",
      "24     63  versicolor  versicolor\n",
      "25     41      setosa      setosa\n",
      "26     20      setosa      setosa\n",
      "27     22      setosa      setosa\n",
      "28    148   virginica   virginica\n",
      "29      5      setosa      setosa\n"
     ]
    }
   ],
   "source": [
    "print(single_y_test_pred(y_test, y_pred))"
   ],
   "metadata": {
    "collapsed": false
   }
  },
  {
   "cell_type": "code",
   "execution_count": 11,
   "outputs": [
    {
     "name": "stdout",
     "output_type": "stream",
     "text": [
      "              precision    recall  f1-score   support\n",
      "\n",
      "      setosa       1.00      1.00      1.00        13\n",
      "  versicolor       1.00      1.00      1.00         8\n",
      "   virginica       1.00      1.00      1.00         9\n",
      "\n",
      "    accuracy                           1.00        30\n",
      "   macro avg       1.00      1.00      1.00        30\n",
      "weighted avg       1.00      1.00      1.00        30\n",
      "\n"
     ]
    }
   ],
   "source": [
    "print(metrics.classification_report(y_test, y_pred))"
   ],
   "metadata": {
    "collapsed": false
   }
  },
  {
   "cell_type": "code",
   "execution_count": 12,
   "outputs": [
    {
     "name": "stdout",
     "output_type": "stream",
     "text": [
      "Confusion matrix:\n",
      "[[13  0  0]\n",
      " [ 0  8  0]\n",
      " [ 0  0  9]]\n"
     ]
    }
   ],
   "source": [
    "print(\"Confusion matrix:\")\n",
    "print(metrics.confusion_matrix(y_test, y_pred, labels=class_names))"
   ],
   "metadata": {
    "collapsed": false
   }
  },
  {
   "cell_type": "code",
   "execution_count": 13,
   "outputs": [
    {
     "name": "stdout",
     "output_type": "stream",
     "text": [
      "Accuracy: 100.0% on Test Data\n",
      "Accuracy: 100.0% on Training Data\n"
     ]
    }
   ],
   "source": [
    "accuracy_test = metrics.accuracy_score(y_test, y_pred) * 100\n",
    "accuracy_train = metrics.accuracy_score(y_train, clf.predict(x_train)) * 100\n",
    "\n",
    "print(f\"Accuracy: {round(accuracy_test, 2)}% on Test Data\")\n",
    "print(f\"Accuracy: {round(accuracy_train, 2)}% on Training Data\")"
   ],
   "metadata": {
    "collapsed": false
   }
  },
  {
   "cell_type": "code",
   "execution_count": 14,
   "outputs": [
    {
     "data": {
      "text/plain": "1.0"
     },
     "execution_count": 14,
     "metadata": {},
     "output_type": "execute_result"
    }
   ],
   "source": [
    "clf.score(x_test, y_test)"
   ],
   "metadata": {
    "collapsed": false
   }
  },
  {
   "cell_type": "code",
   "execution_count": null,
   "outputs": [],
   "source": [],
   "metadata": {
    "collapsed": false
   }
  }
 ],
 "metadata": {
  "kernelspec": {
   "display_name": "Python 3",
   "language": "python",
   "name": "python3"
  },
  "language_info": {
   "codemirror_mode": {
    "name": "ipython",
    "version": 2
   },
   "file_extension": ".py",
   "mimetype": "text/x-python",
   "name": "python",
   "nbconvert_exporter": "python",
   "pygments_lexer": "ipython2",
   "version": "2.7.6"
  }
 },
 "nbformat": 4,
 "nbformat_minor": 0
}
